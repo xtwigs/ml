{
  "cells": [
    {
      "cell_type": "code",
      "execution_count": null,
      "metadata": {
        "id": "ZkLr0d449hDc"
      },
      "outputs": [],
      "source": [
        "import copy\n",
        "import numpy as np\n",
        "import torch\n",
        "import torch.nn as nn\n",
        "import torch.nn.functional as F\n",
        "import torchvision\n",
        "import torchvision.transforms as transforms"
      ]
    },
    {
      "cell_type": "markdown",
      "metadata": {
        "id": "I-OWeXG_9hDd"
      },
      "source": [
        "# PyTorch\n",
        "In this notebook you will gain some hands-on experience with [PyTorch](https://pytorch.org/), one of the major frameworks for deep learning. To install PyTorch. follow [the official installation instructions](https://pytorch.org/get-started/locally/). Make sure that you select the correct OS & select the version with CUDA if your computer supports it.\n",
        "If you do not have an Nvidia GPU, you can install the CPU version by setting `CUDA` to `None`.\n",
        "However, in this case we recommend using [Google Colab](https://colab.research.google.com/).\n",
        "Make sure that you enable GPU acceleration in `Runtime > Change runtime type`.\n",
        "\n",
        "You will start by re-implementing some common features of deep neural networks (dropout and batch normalization) and then implement a very popular modern architecture for image classification (ResNet) and improve its training loop."
      ]
    },
    {
      "cell_type": "markdown",
      "metadata": {
        "id": "p2q7S0il9hDf"
      },
      "source": [
        "# 1. Dropout\n",
        "Dropout is a form of regularization for neural networks. It works by randomly setting activations (values) to 0, each one with equal probability `p`. The values are then scaled by a factor $\\frac{1}{1-p}$ to conserve their mean.\n",
        "\n",
        "Dropout effectively trains a pseudo-ensemble of models with stochastic gradient descent. During evaluation we want to use the full ensemble and therefore have to turn off dropout. Use `self.training` to check if the model is in training or evaluation mode.\n",
        "\n",
        "Do not use any dropout implementation from PyTorch for this!"
      ]
    },
    {
      "cell_type": "code",
      "execution_count": null,
      "metadata": {
        "id": "eaTWgI__9hDf"
      },
      "outputs": [],
      "source": [
        "class Dropout(nn.Module):\n",
        "    \"\"\"\n",
        "    Dropout, as discussed in the lecture and described here:\n",
        "    https://pytorch.org/docs/stable/nn.html#torch.nn.Dropout\n",
        "    \n",
        "    Args:\n",
        "        p: float, dropout probability\n",
        "    \"\"\"\n",
        "    def __init__(self, p):\n",
        "        super().__init__()\n",
        "        self.p = p\n",
        "        \n",
        "    def forward(self, input):\n",
        "        \"\"\"\n",
        "        The module's forward pass.\n",
        "        This has to be implemented for every PyTorch module.\n",
        "        PyTorch then automatically generates the backward pass\n",
        "        by dynamically generating the computational graph during\n",
        "        execution.\n",
        "        \n",
        "        Args:\n",
        "            input: PyTorch tensor, arbitrary shape\n",
        "\n",
        "        Returns:\n",
        "            PyTorch tensor, same shape as input\n",
        "        \"\"\"\n",
        "\n",
        "        samples = torch.empty_like(input).bernoulli(1-self.p)\n",
        "        return input*samples/(1-self.p)"
      ]
    },
    {
      "cell_type": "code",
      "execution_count": null,
      "metadata": {
        "id": "STxXbJK99hDg"
      },
      "outputs": [],
      "source": [
        "# Test dropout\n",
        "test = torch.rand(10_000)\n",
        "dropout = Dropout(0.2)\n",
        "test_dropped = dropout(test)\n",
        "\n",
        "# These assertions can in principle fail due to bad luck, but\n",
        "# if implemented correctly they should almost always succeed.\n",
        "assert np.isclose(test_dropped.mean().item(), test.mean().item(), atol=1e-2)\n",
        "assert np.isclose((test_dropped > 0).float().mean().item(), 0.8, atol=1e-2)"
      ]
    },
    {
      "cell_type": "markdown",
      "metadata": {
        "id": "S4FMdYeS9hDh"
      },
      "source": [
        "# 2. Batch normalization\n",
        "Batch normalization is a trick use to smoothen the loss landscape and improve training. It is defined as the function\n",
        "$y = \\frac{x - \\mu_x}{\\sigma_x + \\epsilon} \\cdot \\gamma + \\beta$,\n",
        "where $\\gamma$ and $\\beta$ and learnable parameters and $\\epsilon$ is a some small number to avoid dividing by zero. The Statistics $\\mu_x$ and $\\sigma_x$ are taken separately for each feature. In a CNN this means averaging over the batch and all pixels.\n",
        "\n",
        "Do not use any batch normalization implementation from PyTorch for this!"
      ]
    },
    {
      "cell_type": "code",
      "execution_count": null,
      "metadata": {
        "id": "XpYAh6T79hDh"
      },
      "outputs": [],
      "source": [
        "class BatchNorm(nn.Module):\n",
        "    \"\"\"\n",
        "    Batch normalization, as discussed in the lecture and similar to\n",
        "    https://pytorch.org/docs/stable/nn.html#torch.nn.BatchNorm1d\n",
        "    \n",
        "    Only uses batch statistics (no running mean for evaluation).\n",
        "    Batch statistics are calculated for a single dimension.\n",
        "    Gamma is initialized as 1, beta as 0.\n",
        "    \n",
        "    Args:\n",
        "        num_features: Number of features to calculate batch statistics for.\n",
        "    \"\"\"\n",
        "    def __init__(self, num_features):\n",
        "        super().__init__()\n",
        "        \n",
        "        self.gamma = nn.Parameter(torch.ones(num_features))\n",
        "        self.beta = nn.Parameter(torch.zeros(num_features))\n",
        "        \n",
        "    def forward(self, input):\n",
        "        \"\"\"\n",
        "        Batch normalization over the dimension C of (N, C, L).\n",
        "        \n",
        "        Args:\n",
        "            input: PyTorch tensor, shape [N, C, L]\n",
        "            \n",
        "        Return:\n",
        "            PyTorch tensor, same shape as input\n",
        "        \"\"\"\n",
        "        \n",
        "        eps = 1e-5\n",
        "        \n",
        "        x_shifted = input - torch.mean(input, (0,2), keepdim=True)\n",
        "        x_hat = x_shifted / (torch.std(input, (0,2), keepdim=True, unbiased=False) + eps)\n",
        "        return self.gamma[:, None]*x_hat + self.beta[:, None]\n"
      ]
    },
    {
      "cell_type": "code",
      "execution_count": null,
      "metadata": {
        "id": "asgo61yq9hDj"
      },
      "outputs": [],
      "source": [
        "# Tests the batch normalization implementation\n",
        "torch.random.manual_seed(42)\n",
        "test = torch.randn(8, 2, 4)\n",
        "\n",
        "b1 = BatchNorm(2)\n",
        "test_b1 = b1(test)\n",
        "\n",
        "b2 = nn.BatchNorm1d(2, affine=False, track_running_stats=False)\n",
        "test_b2 = b2(test)\n",
        "\n",
        "assert torch.allclose(test_b1, test_b2, rtol=0.02)"
      ]
    },
    {
      "cell_type": "markdown",
      "metadata": {
        "id": "dW_X1RqQ9hDj"
      },
      "source": [
        "# 3. ResNet\n",
        "ResNet is the models that first introduced residual connections (a form of skip connections). It is a rather simple, but successful and very popular architecture. In this part of the exercise we will re-implement it step by step.\n",
        "\n",
        "Note that there is also an [improved version of ResNet](https://arxiv.org/abs/1603.05027) with optimized residual blocks. Here we will implement the [original version](https://arxiv.org/abs/1512.03385) for CIFAR-10. Your dropout and batchnorm implementations won't help you here. Just use PyTorch's own layers."
      ]
    },
    {
      "cell_type": "markdown",
      "metadata": {
        "id": "oX1VNe0l9hDk"
      },
      "source": [
        "This is just a convenience function to make e.g. `nn.Sequential` more flexible. It is e.g. useful in combination with `x.squeeze()`."
      ]
    },
    {
      "cell_type": "code",
      "execution_count": null,
      "metadata": {
        "id": "TWKebdu09hDl"
      },
      "outputs": [],
      "source": [
        "class Lambda(nn.Module):\n",
        "    def __init__(self, func):\n",
        "        super().__init__()\n",
        "        self.func = func\n",
        "\n",
        "    def forward(self, x):\n",
        "        return self.func(x)"
      ]
    },
    {
      "cell_type": "markdown",
      "metadata": {
        "id": "nNKX1jC39hDl"
      },
      "source": [
        "We begin by implementing the residual blocks. The block is illustrated by this sketch:\n",
        "\n",
        "![Residual connection](img/residual_connection.png)\n",
        "\n",
        "Note that we use 'SAME' padding, no bias, and batch normalization after each convolution. You do not need `nn.Sequential` here. The skip connection is already implemented as `self.skip`. It can handle different strides and increases in the number of channels."
      ]
    },
    {
      "cell_type": "code",
      "execution_count": null,
      "metadata": {
        "id": "F3C70uRN9hDm"
      },
      "outputs": [],
      "source": [
        "class ResidualBlock(nn.Module):\n",
        "    \"\"\"\n",
        "    The residual block used by ResNet.\n",
        "    \n",
        "    Args:\n",
        "        in_channels: The number of channels (feature maps) of the incoming embedding\n",
        "        out_channels: The number of channels after the first convolution\n",
        "        stride: Stride size of the first convolution, used for downsampling\n",
        "    \"\"\"\n",
        "    \n",
        "    def __init__(self, in_channels, out_channels, stride=1):\n",
        "        super().__init__()        \n",
        "        if stride > 1 or in_channels != out_channels:\n",
        "            # Add strides in the skip connection and zeros for the new channels.\n",
        "            self.skip = Lambda(lambda x: F.pad(x[:, :, ::stride, ::stride],\n",
        "                                               (0, 0, 0, 0, 0, out_channels - in_channels),\n",
        "                                               mode=\"constant\", value=0))\n",
        "        else:\n",
        "            self.skip = nn.Sequential()\n",
        "        \n",
        "        self.conv1 = nn.Conv2d(in_channels, out_channels, (3,3), stride, 1)\n",
        "        self.conv2 = nn.Conv2d(out_channels, out_channels, (3,3), 1, 1)\n",
        "        self.bn1 = nn.BatchNorm2d(out_channels)\n",
        "        self.bn2 = nn.BatchNorm2d(out_channels)\n",
        "        self.relu = nn.ReLU()\n",
        "\n",
        "    def forward(self, input):\n",
        "      \n",
        "        step = self.conv1(input)\n",
        "        step = self.bn1(step)\n",
        "        step = self.relu(step)\n",
        "        step = self.conv2(step)\n",
        "        step = self.bn2(step)\n",
        "\n",
        "        sk = self.skip(input)\n",
        "        step += sk\n",
        "        return self.relu(step)"
      ]
    },
    {
      "cell_type": "markdown",
      "metadata": {
        "id": "SPj8gXF-9hDm"
      },
      "source": [
        "Next we implement a stack of residual blocks for convenience. The first layer in the block is the one changing the number of channels and downsampling. You can use `nn.ModuleList` to use a list of child modules."
      ]
    },
    {
      "cell_type": "code",
      "execution_count": null,
      "metadata": {
        "id": "9OkXJCfF9hDm"
      },
      "outputs": [],
      "source": [
        "class ResidualStack(nn.Module):\n",
        "    \"\"\"\n",
        "    A stack of residual blocks.\n",
        "    \n",
        "    Args:\n",
        "        in_channels: The number of channels (feature maps) of the incoming embedding\n",
        "        out_channels: The number of channels after the first layer\n",
        "        stride: Stride size of the first layer, used for downsampling\n",
        "        num_blocks: Number of residual blocks\n",
        "    \"\"\"\n",
        "    \n",
        "    def __init__(self, in_channels, out_channels, stride, num_blocks):\n",
        "        super().__init__()\n",
        "        self.stack = nn.ModuleList((ResidualBlock(out_channels, out_channels, 1) for i in range(num_blocks-1)))\n",
        "        self.stack.insert(0, ResidualBlock(in_channels, out_channels, stride))\n",
        "        \n",
        "    def forward(self, input):   \n",
        "        step = input\n",
        "        for block in self.stack:\n",
        "            step = block(step)\n",
        "\n",
        "        return step"
      ]
    },
    {
      "cell_type": "markdown",
      "metadata": {
        "id": "v4GSax5_9hDn"
      },
      "source": [
        "Now we are finally ready to implement the full model! To do this, use the `nn.Sequential` API and carefully read the following paragraph from the paper (Fig. 3 is not important):\n",
        "\n",
        "![ResNet CIFAR10 description](img/resnet_cifar10_description.png)\n",
        "\n",
        "Note that a convolution layer is always convolution + batch norm + activation (ReLU), that each ResidualBlock contains 2 layers, and that you might have to `squeeze` the embedding before the dense (fully-connected) layer."
      ]
    },
    {
      "cell_type": "code",
      "execution_count": null,
      "metadata": {
        "id": "5NxDcxKi9hDn"
      },
      "outputs": [],
      "source": [
        "n = 5\n",
        "num_classes = 10\n",
        "\n",
        "resnet = nn.Sequential(\n",
        "    nn.Conv2d(3, 16, 3),\n",
        "    nn.BatchNorm2d(16),\n",
        "    nn.ReLU(),\n",
        "    ResidualStack(16, 16, 1, n),\n",
        "    ResidualStack(16, 32, 2, n),\n",
        "    ResidualStack(32, 64, 2, n),\n",
        "    nn.AvgPool2d(8),\n",
        "    Lambda(torch.squeeze),\n",
        "    nn.Linear(64,num_classes),\n",
        "    nn.Softmax(1)\n",
        ")\n"
      ]
    },
    {
      "cell_type": "markdown",
      "metadata": {
        "id": "63YL5BTL9hDo"
      },
      "source": [
        "Next we need to initialize the weights of our model."
      ]
    },
    {
      "cell_type": "code",
      "execution_count": null,
      "metadata": {
        "id": "yYbpdKcL9hDo"
      },
      "outputs": [],
      "source": [
        "def initialize_weight(module):\n",
        "    if isinstance(module, (nn.Linear, nn.Conv2d)):\n",
        "        nn.init.kaiming_normal_(module.weight, nonlinearity='relu')\n",
        "    elif isinstance(module, nn.BatchNorm2d):\n",
        "        nn.init.constant_(module.weight, 1)\n",
        "        nn.init.constant_(module.bias, 0)\n",
        "        \n",
        "resnet.apply(initialize_weight);"
      ]
    },
    {
      "cell_type": "markdown",
      "metadata": {
        "id": "EGXBxI439hDo"
      },
      "source": [
        "# 4. Training\n",
        "So now we have a shiny new model, but that doesn't really help when we can't train it. So that's what we do next.\n",
        "\n",
        "First we need to load the data. Note that we split the official training data into train and validation sets, because you must not look at the test set until you are completely done developing your model and report the final results. Some people don't do this properly, but you should not copy other people's bad habits."
      ]
    },
    {
      "cell_type": "code",
      "execution_count": null,
      "metadata": {
        "id": "bIAk2xo39hDo"
      },
      "outputs": [],
      "source": [
        "class CIFAR10Subset(torchvision.datasets.CIFAR10):\n",
        "    \"\"\"\n",
        "    Get a subset of the CIFAR10 dataset, according to the passed indices.\n",
        "    \"\"\"\n",
        "    def __init__(self, *args, idx=None, **kwargs):\n",
        "        super().__init__(*args, **kwargs)\n",
        "        \n",
        "        if idx is None:\n",
        "            return\n",
        "        \n",
        "        self.data = self.data[idx]\n",
        "        targets_np = np.array(self.targets)\n",
        "        self.targets = targets_np[idx].tolist()"
      ]
    },
    {
      "cell_type": "markdown",
      "metadata": {
        "id": "w6nk4bGf9hDp"
      },
      "source": [
        "We next define transformations that change the images into PyTorch tensors, standardize the values according to the precomputed mean and standard deviation, and provide data augmentation for the training set."
      ]
    },
    {
      "cell_type": "code",
      "execution_count": null,
      "metadata": {
        "id": "Z_pG5OQa9hDp"
      },
      "outputs": [],
      "source": [
        "normalize = transforms.Normalize(mean=[0.485, 0.456, 0.406],\n",
        "                                 std=[0.229, 0.224, 0.225])\n",
        "transform_train = transforms.Compose([\n",
        "    transforms.RandomHorizontalFlip(),\n",
        "    transforms.RandomCrop(32, 4),\n",
        "    transforms.ToTensor(),\n",
        "    normalize,\n",
        "])\n",
        "transform_eval = transforms.Compose([\n",
        "    transforms.ToTensor(),\n",
        "    normalize\n",
        "])"
      ]
    },
    {
      "cell_type": "code",
      "execution_count": null,
      "metadata": {
        "colab": {
          "base_uri": "https://localhost:8080/",
          "height": 142,
          "referenced_widgets": [
            "a3163cd25c2a48c2b0255656da79e002",
            "8f3af6060b25432cae0f8b575775d934",
            "df0a1240ad064e2a955d96e3fca1fda1",
            "270037f68ecc4252b454e1546821e203",
            "5648daa1b9974978a9cc412710e19fcd",
            "225516667d4b41bea95af06e1ae183bd",
            "72aeb3f674414688969a7c3bac63060a",
            "3e6e4011697d4f4d90626f45afa06137",
            "abb4ebad76014a73a26d0f9d70442e68",
            "9e8c49cf43d44d1d8e21d8e3d4824630",
            "07124dff86944f52ab61789f5deeaa00"
          ]
        },
        "id": "vEUfpj469hDp",
        "outputId": "eb75f11a-e4ba-424f-ee53-8ad09940ee05"
      },
      "outputs": [
        {
          "name": "stdout",
          "output_type": "stream",
          "text": [
            "Downloading https://www.cs.toronto.edu/~kriz/cifar-10-python.tar.gz to ./data/cifar-10-python.tar.gz\n"
          ]
        },
        {
          "data": {
            "application/vnd.jupyter.widget-view+json": {
              "model_id": "a3163cd25c2a48c2b0255656da79e002",
              "version_major": 2,
              "version_minor": 0
            },
            "text/plain": [
              "  0%|          | 0/170498071 [00:00<?, ?it/s]"
            ]
          },
          "metadata": {},
          "output_type": "display_data"
        },
        {
          "name": "stdout",
          "output_type": "stream",
          "text": [
            "Extracting ./data/cifar-10-python.tar.gz to ./data\n",
            "Files already downloaded and verified\n",
            "Files already downloaded and verified\n"
          ]
        }
      ],
      "source": [
        "ntrain = 45_000\n",
        "train_set = CIFAR10Subset(root='./data', train=True, idx=range(ntrain),\n",
        "                          download=True, transform=transform_train)\n",
        "val_set = CIFAR10Subset(root='./data', train=True, idx=range(ntrain, 50_000),\n",
        "                        download=True, transform=transform_eval)\n",
        "test_set = torchvision.datasets.CIFAR10(root='./data', train=False,\n",
        "                                        download=True, transform=transform_eval)"
      ]
    },
    {
      "cell_type": "code",
      "execution_count": null,
      "metadata": {
        "id": "hRBw3t9d9hDr"
      },
      "outputs": [],
      "source": [
        "dataloaders = {}\n",
        "dataloaders['train'] = torch.utils.data.DataLoader(train_set, batch_size=128,\n",
        "                                                   shuffle=True, num_workers=2,\n",
        "                                                   pin_memory=True)\n",
        "dataloaders['val'] = torch.utils.data.DataLoader(val_set, batch_size=128,\n",
        "                                                 shuffle=False, num_workers=2,\n",
        "                                                 pin_memory=True)\n",
        "dataloaders['test'] = torch.utils.data.DataLoader(test_set, batch_size=128,\n",
        "                                                  shuffle=False, num_workers=2,\n",
        "                                                  pin_memory=True)"
      ]
    },
    {
      "cell_type": "markdown",
      "metadata": {
        "id": "RDmGWmrY9hDr"
      },
      "source": [
        "Next we push the model to our GPU (if there is one)."
      ]
    },
    {
      "cell_type": "code",
      "execution_count": null,
      "metadata": {
        "id": "l-Ii1VJu9hDr"
      },
      "outputs": [],
      "source": [
        "device = torch.device('cuda') if torch.cuda.is_available() else torch.device('cpu')\n",
        "resnet.to(device);"
      ]
    },
    {
      "cell_type": "markdown",
      "metadata": {
        "id": "5Q5ZP4Lu9hDr"
      },
      "source": [
        "Next we define a helper method that does one epoch of training or evaluation. We have only defined training here, so you need to implement the necessary changes for evaluation!"
      ]
    },
    {
      "cell_type": "code",
      "execution_count": null,
      "metadata": {
        "id": "QO7Pd1x09hDr"
      },
      "outputs": [],
      "source": [
        "def run_epoch(model, optimizer, dataloader, train):\n",
        "    \"\"\"\n",
        "    Run one epoch of training or evaluation.\n",
        "    \n",
        "    Args:\n",
        "        model: The model used for prediction\n",
        "        optimizer: Optimization algorithm for the model\n",
        "        dataloader: Dataloader providing the data to run our model on\n",
        "        train: Whether this epoch is used for training or evaluation\n",
        "        \n",
        "    Returns:\n",
        "        Loss and accuracy in this epoch.\n",
        "    \"\"\"\n",
        "    \n",
        "    device = next(model.parameters()).device\n",
        "    \n",
        "    # Set model to training mode (for e.g. batch normalization, dropout)\n",
        "    \n",
        "    model.train() if train else model.eval()\n",
        "\n",
        "    epoch_loss = 0.0\n",
        "    epoch_acc = 0.0\n",
        "\n",
        "    # Iterate over data\n",
        "    for xb, yb in dataloader:\n",
        "        xb, yb = xb.to(device), yb.to(device)\n",
        "\n",
        "        # zero the parameter gradients\n",
        "        if train:\n",
        "            optimizer.zero_grad()\n",
        "\n",
        "        # forward\n",
        "        with torch.set_grad_enabled(True):\n",
        "            pred = model(xb)\n",
        "            loss = F.cross_entropy(pred, yb)\n",
        "            top1 = torch.argmax(pred, dim=1)\n",
        "            ncorrect = torch.sum(top1 == yb)\n",
        "\n",
        "            if train:\n",
        "                loss.backward()\n",
        "                optimizer.step()\n",
        "\n",
        "        # statistics\n",
        "        epoch_loss += loss.item()\n",
        "        epoch_acc += ncorrect.item()\n",
        "    \n",
        "    epoch_loss /= len(dataloader.dataset)\n",
        "    epoch_acc /= len(dataloader.dataset)\n",
        "    return epoch_loss, epoch_acc"
      ]
    },
    {
      "cell_type": "markdown",
      "metadata": {
        "id": "sjH2inj69hDs"
      },
      "source": [
        "Next we implement a method for fitting (training) our model. For many models early stopping can save a lot of training time. Your task is to add early stopping to the loop (based on validation accuracy). Early stopping usually means exiting the training loop if the validation accuracy hasn't improved for `patience` number of steps. Don't forget to save the best model parameters according to validation accuracy. You will need `copy.deepcopy` and the `state_dict` for this."
      ]
    },
    {
      "cell_type": "code",
      "execution_count": null,
      "metadata": {
        "id": "InbSJwom9hDs"
      },
      "outputs": [],
      "source": [
        "def fit(model, optimizer, lr_scheduler, dataloaders, max_epochs, patience):\n",
        "    \"\"\"\n",
        "    Fit the given model on the dataset.\n",
        "    \n",
        "    Args:\n",
        "        model: The model used for prediction\n",
        "        optimizer: Optimization algorithm for the model\n",
        "        lr_scheduler: Learning rate scheduler that improves training\n",
        "                      in late epochs with learning rate decay\n",
        "        dataloaders: Dataloaders for training and validation\n",
        "        max_epochs: Maximum number of epochs for training\n",
        "        patience: Number of epochs to wait with early stopping the\n",
        "                  training if validation loss has decreased\n",
        "                  \n",
        "    Returns:\n",
        "        Loss and accuracy in this epoch.\n",
        "    \"\"\"\n",
        "    \n",
        "    best_acc = 0\n",
        "    curr_patience = 0\n",
        "    \n",
        "    for epoch in range(max_epochs):\n",
        "        train_loss, train_acc = run_epoch(model, optimizer, dataloaders['train'], train=True)\n",
        "        lr_scheduler.step()\n",
        "        print(f\"Epoch {epoch + 1: >3}/{max_epochs}, train loss: {train_loss:.2e}, accuracy: {train_acc * 100:.2f}%\")\n",
        "        \n",
        "        val_loss, val_acc = run_epoch(model, None, dataloaders['val'], train=False)\n",
        "        print(f\"Epoch {epoch + 1: >3}/{max_epochs}, val loss: {val_loss:.2e}, accuracy: {val_acc * 100:.2f}%\")\n",
        "        \n",
        "\n",
        "        if (val_acc > best_acc):\n",
        "            best_model_weights = copy.deepcopy(model.state_dict())\n",
        "            best_acc = val_acc\n",
        "            patience = 0\n",
        "\n",
        "        elif (val_acc <= best_acc):\n",
        "            curr_patience +=1\n",
        "            if (curr_patience == patience-1):\n",
        "                break\n",
        "\n",
        "    model.load_state_dict(best_model_weights)"
      ]
    },
    {
      "cell_type": "markdown",
      "metadata": {
        "id": "Gli2y_iC9hDs"
      },
      "source": [
        "In most cases you should just use the Adam optimizer for training, because it works well out of the box. However, a well-tuned SGD (with momentum) will in most cases outperform Adam. And since the original paper gives us a well-tuned SGD we will just use that."
      ]
    },
    {
      "cell_type": "code",
      "execution_count": 18,
      "metadata": {
        "colab": {
          "base_uri": "https://localhost:8080/"
        },
        "id": "fSa4PkSS9hDt",
        "outputId": "d1b39b8a-8bc5-4cf4-a16c-8004e1a9b1b1"
      },
      "outputs": [
        {
          "name": "stdout",
          "output_type": "stream",
          "text": [
            "Epoch   1/200, train loss: 1.72e-02, accuracy: 25.57%\n",
            "Epoch   1/200, val loss: 1.73e-02, accuracy: 28.64%\n",
            "Epoch   2/200, train loss: 1.65e-02, accuracy: 34.35%\n",
            "Epoch   2/200, val loss: 1.71e-02, accuracy: 30.76%\n",
            "Epoch   3/200, train loss: 1.58e-02, accuracy: 43.18%\n",
            "Epoch   3/200, val loss: 1.61e-02, accuracy: 44.52%\n",
            "Epoch   4/200, train loss: 1.55e-02, accuracy: 47.84%\n",
            "Epoch   4/200, val loss: 1.56e-02, accuracy: 51.28%\n",
            "Epoch   5/200, train loss: 1.52e-02, accuracy: 51.78%\n",
            "Epoch   5/200, val loss: 1.54e-02, accuracy: 52.66%\n",
            "Epoch   6/200, train loss: 1.49e-02, accuracy: 54.87%\n",
            "Epoch   6/200, val loss: 1.53e-02, accuracy: 54.86%\n",
            "Epoch   7/200, train loss: 1.48e-02, accuracy: 56.49%\n",
            "Epoch   7/200, val loss: 1.52e-02, accuracy: 56.14%\n",
            "Epoch   8/200, train loss: 1.47e-02, accuracy: 57.56%\n",
            "Epoch   8/200, val loss: 1.51e-02, accuracy: 57.48%\n",
            "Epoch   9/200, train loss: 1.46e-02, accuracy: 59.35%\n",
            "Epoch   9/200, val loss: 1.50e-02, accuracy: 58.58%\n",
            "Epoch  10/200, train loss: 1.44e-02, accuracy: 62.03%\n",
            "Epoch  10/200, val loss: 1.45e-02, accuracy: 65.60%\n",
            "Epoch  11/200, train loss: 1.42e-02, accuracy: 64.66%\n",
            "Epoch  11/200, val loss: 1.43e-02, accuracy: 67.86%\n",
            "Epoch  12/200, train loss: 1.41e-02, accuracy: 65.69%\n",
            "Epoch  12/200, val loss: 1.48e-02, accuracy: 60.30%\n",
            "Epoch  13/200, train loss: 1.40e-02, accuracy: 66.86%\n",
            "Epoch  13/200, val loss: 1.42e-02, accuracy: 68.16%\n",
            "Epoch  14/200, train loss: 1.39e-02, accuracy: 68.28%\n",
            "Epoch  14/200, val loss: 1.43e-02, accuracy: 67.64%\n",
            "Epoch  15/200, train loss: 1.38e-02, accuracy: 69.88%\n",
            "Epoch  15/200, val loss: 1.41e-02, accuracy: 70.86%\n",
            "Epoch  16/200, train loss: 1.36e-02, accuracy: 72.57%\n",
            "Epoch  16/200, val loss: 1.40e-02, accuracy: 71.30%\n",
            "Epoch  17/200, train loss: 1.35e-02, accuracy: 73.80%\n",
            "Epoch  17/200, val loss: 1.41e-02, accuracy: 70.80%\n",
            "Epoch  18/200, train loss: 1.35e-02, accuracy: 74.04%\n",
            "Epoch  18/200, val loss: 1.36e-02, accuracy: 75.64%\n",
            "Epoch  19/200, train loss: 1.34e-02, accuracy: 74.96%\n",
            "Epoch  19/200, val loss: 1.39e-02, accuracy: 72.20%\n",
            "Epoch  20/200, train loss: 1.34e-02, accuracy: 75.39%\n",
            "Epoch  20/200, val loss: 1.40e-02, accuracy: 70.84%\n",
            "Epoch  21/200, train loss: 1.33e-02, accuracy: 76.14%\n",
            "Epoch  21/200, val loss: 1.41e-02, accuracy: 70.92%\n",
            "Epoch  22/200, train loss: 1.33e-02, accuracy: 76.64%\n",
            "Epoch  22/200, val loss: 1.37e-02, accuracy: 75.40%\n",
            "Epoch  23/200, train loss: 1.32e-02, accuracy: 77.14%\n",
            "Epoch  23/200, val loss: 1.36e-02, accuracy: 76.60%\n",
            "Epoch  24/200, train loss: 1.32e-02, accuracy: 77.46%\n",
            "Epoch  24/200, val loss: 1.37e-02, accuracy: 74.76%\n",
            "Epoch  25/200, train loss: 1.31e-02, accuracy: 78.34%\n",
            "Epoch  25/200, val loss: 1.34e-02, accuracy: 78.56%\n",
            "Epoch  26/200, train loss: 1.31e-02, accuracy: 78.24%\n",
            "Epoch  26/200, val loss: 1.36e-02, accuracy: 76.52%\n",
            "Epoch  27/200, train loss: 1.31e-02, accuracy: 78.79%\n",
            "Epoch  27/200, val loss: 1.35e-02, accuracy: 77.70%\n",
            "Epoch  28/200, train loss: 1.31e-02, accuracy: 79.22%\n",
            "Epoch  28/200, val loss: 1.37e-02, accuracy: 75.26%\n",
            "Epoch  29/200, train loss: 1.30e-02, accuracy: 79.37%\n",
            "Epoch  29/200, val loss: 1.34e-02, accuracy: 78.12%\n",
            "Epoch  30/200, train loss: 1.30e-02, accuracy: 79.36%\n",
            "Epoch  30/200, val loss: 1.36e-02, accuracy: 76.20%\n",
            "Epoch  31/200, train loss: 1.30e-02, accuracy: 79.90%\n",
            "Epoch  31/200, val loss: 1.34e-02, accuracy: 78.46%\n",
            "Epoch  32/200, train loss: 1.30e-02, accuracy: 80.13%\n",
            "Epoch  32/200, val loss: 1.37e-02, accuracy: 74.70%\n",
            "Epoch  33/200, train loss: 1.30e-02, accuracy: 80.38%\n",
            "Epoch  33/200, val loss: 1.33e-02, accuracy: 80.26%\n",
            "Epoch  34/200, train loss: 1.29e-02, accuracy: 80.70%\n",
            "Epoch  34/200, val loss: 1.33e-02, accuracy: 80.78%\n",
            "Epoch  35/200, train loss: 1.29e-02, accuracy: 81.22%\n",
            "Epoch  35/200, val loss: 1.36e-02, accuracy: 76.60%\n",
            "Epoch  36/200, train loss: 1.29e-02, accuracy: 81.04%\n",
            "Epoch  36/200, val loss: 1.35e-02, accuracy: 77.64%\n",
            "Epoch  37/200, train loss: 1.29e-02, accuracy: 81.50%\n",
            "Epoch  37/200, val loss: 1.34e-02, accuracy: 79.52%\n",
            "Epoch  38/200, train loss: 1.29e-02, accuracy: 81.46%\n",
            "Epoch  38/200, val loss: 1.34e-02, accuracy: 78.92%\n",
            "Epoch  39/200, train loss: 1.29e-02, accuracy: 81.69%\n",
            "Epoch  39/200, val loss: 1.32e-02, accuracy: 81.44%\n",
            "Epoch  40/200, train loss: 1.28e-02, accuracy: 82.10%\n",
            "Epoch  40/200, val loss: 1.33e-02, accuracy: 80.00%\n",
            "Epoch  41/200, train loss: 1.29e-02, accuracy: 81.53%\n",
            "Epoch  41/200, val loss: 1.36e-02, accuracy: 75.78%\n",
            "Epoch  42/200, train loss: 1.28e-02, accuracy: 82.19%\n",
            "Epoch  42/200, val loss: 1.33e-02, accuracy: 80.52%\n",
            "Epoch  43/200, train loss: 1.28e-02, accuracy: 82.15%\n",
            "Epoch  43/200, val loss: 1.40e-02, accuracy: 71.70%\n",
            "Epoch  44/200, train loss: 1.28e-02, accuracy: 82.28%\n",
            "Epoch  44/200, val loss: 1.34e-02, accuracy: 79.28%\n",
            "Epoch  45/200, train loss: 1.28e-02, accuracy: 82.54%\n",
            "Epoch  45/200, val loss: 1.34e-02, accuracy: 79.72%\n",
            "Epoch  46/200, train loss: 1.28e-02, accuracy: 82.63%\n",
            "Epoch  46/200, val loss: 1.35e-02, accuracy: 78.22%\n",
            "Epoch  47/200, train loss: 1.28e-02, accuracy: 82.48%\n",
            "Epoch  47/200, val loss: 1.32e-02, accuracy: 81.60%\n",
            "Epoch  48/200, train loss: 1.28e-02, accuracy: 82.70%\n",
            "Epoch  48/200, val loss: 1.32e-02, accuracy: 81.76%\n",
            "Epoch  49/200, train loss: 1.28e-02, accuracy: 82.88%\n",
            "Epoch  49/200, val loss: 1.36e-02, accuracy: 76.32%\n",
            "Epoch  50/200, train loss: 1.28e-02, accuracy: 82.80%\n",
            "Epoch  50/200, val loss: 1.33e-02, accuracy: 80.88%\n",
            "Epoch  51/200, train loss: 1.28e-02, accuracy: 83.22%\n",
            "Epoch  51/200, val loss: 1.33e-02, accuracy: 80.18%\n",
            "Epoch  52/200, train loss: 1.28e-02, accuracy: 83.10%\n",
            "Epoch  52/200, val loss: 1.33e-02, accuracy: 80.00%\n",
            "Epoch  53/200, train loss: 1.28e-02, accuracy: 83.14%\n",
            "Epoch  53/200, val loss: 1.33e-02, accuracy: 80.88%\n",
            "Epoch  54/200, train loss: 1.27e-02, accuracy: 83.41%\n",
            "Epoch  54/200, val loss: 1.36e-02, accuracy: 76.74%\n",
            "Epoch  55/200, train loss: 1.27e-02, accuracy: 83.26%\n",
            "Epoch  55/200, val loss: 1.31e-02, accuracy: 83.18%\n",
            "Epoch  56/200, train loss: 1.27e-02, accuracy: 83.50%\n",
            "Epoch  56/200, val loss: 1.32e-02, accuracy: 81.46%\n",
            "Epoch  57/200, train loss: 1.27e-02, accuracy: 83.73%\n",
            "Epoch  57/200, val loss: 1.35e-02, accuracy: 77.78%\n",
            "Epoch  58/200, train loss: 1.27e-02, accuracy: 83.82%\n",
            "Epoch  58/200, val loss: 1.34e-02, accuracy: 79.68%\n",
            "Epoch  59/200, train loss: 1.27e-02, accuracy: 84.01%\n",
            "Epoch  59/200, val loss: 1.32e-02, accuracy: 81.82%\n",
            "Epoch  60/200, train loss: 1.27e-02, accuracy: 83.74%\n",
            "Epoch  60/200, val loss: 1.33e-02, accuracy: 79.98%\n",
            "Epoch  61/200, train loss: 1.27e-02, accuracy: 84.07%\n",
            "Epoch  61/200, val loss: 1.32e-02, accuracy: 81.56%\n",
            "Epoch  62/200, train loss: 1.27e-02, accuracy: 84.07%\n",
            "Epoch  62/200, val loss: 1.33e-02, accuracy: 79.74%\n",
            "Epoch  63/200, train loss: 1.27e-02, accuracy: 84.07%\n",
            "Epoch  63/200, val loss: 1.34e-02, accuracy: 79.42%\n",
            "Epoch  64/200, train loss: 1.27e-02, accuracy: 84.14%\n",
            "Epoch  64/200, val loss: 1.35e-02, accuracy: 78.40%\n",
            "Epoch  65/200, train loss: 1.27e-02, accuracy: 84.25%\n",
            "Epoch  65/200, val loss: 1.32e-02, accuracy: 81.62%\n",
            "Epoch  66/200, train loss: 1.27e-02, accuracy: 84.32%\n",
            "Epoch  66/200, val loss: 1.32e-02, accuracy: 81.12%\n",
            "Epoch  67/200, train loss: 1.27e-02, accuracy: 84.22%\n",
            "Epoch  67/200, val loss: 1.35e-02, accuracy: 77.86%\n",
            "Epoch  68/200, train loss: 1.26e-02, accuracy: 84.89%\n",
            "Epoch  68/200, val loss: 1.34e-02, accuracy: 79.42%\n",
            "Epoch  69/200, train loss: 1.27e-02, accuracy: 83.95%\n",
            "Epoch  69/200, val loss: 1.32e-02, accuracy: 81.90%\n",
            "Epoch  70/200, train loss: 1.26e-02, accuracy: 84.56%\n",
            "Epoch  70/200, val loss: 1.37e-02, accuracy: 75.46%\n",
            "Epoch  71/200, train loss: 1.27e-02, accuracy: 84.43%\n",
            "Epoch  71/200, val loss: 1.31e-02, accuracy: 83.16%\n",
            "Epoch  72/200, train loss: 1.26e-02, accuracy: 84.81%\n",
            "Epoch  72/200, val loss: 1.32e-02, accuracy: 80.92%\n",
            "Epoch  73/200, train loss: 1.27e-02, accuracy: 84.55%\n",
            "Epoch  73/200, val loss: 1.32e-02, accuracy: 81.60%\n",
            "Epoch  74/200, train loss: 1.26e-02, accuracy: 85.12%\n",
            "Epoch  74/200, val loss: 1.33e-02, accuracy: 80.42%\n",
            "Epoch  75/200, train loss: 1.26e-02, accuracy: 84.86%\n",
            "Epoch  75/200, val loss: 1.32e-02, accuracy: 81.68%\n",
            "Epoch  76/200, train loss: 1.26e-02, accuracy: 85.09%\n",
            "Epoch  76/200, val loss: 1.34e-02, accuracy: 78.22%\n",
            "Epoch  77/200, train loss: 1.26e-02, accuracy: 84.79%\n",
            "Epoch  77/200, val loss: 1.31e-02, accuracy: 83.64%\n",
            "Epoch  78/200, train loss: 1.26e-02, accuracy: 85.64%\n",
            "Epoch  78/200, val loss: 1.33e-02, accuracy: 79.68%\n",
            "Epoch  79/200, train loss: 1.26e-02, accuracy: 85.34%\n",
            "Epoch  79/200, val loss: 1.31e-02, accuracy: 82.72%\n",
            "Epoch  80/200, train loss: 1.26e-02, accuracy: 84.79%\n",
            "Epoch  80/200, val loss: 1.31e-02, accuracy: 82.50%\n",
            "Epoch  81/200, train loss: 1.26e-02, accuracy: 85.00%\n",
            "Epoch  81/200, val loss: 1.33e-02, accuracy: 80.62%\n",
            "Epoch  82/200, train loss: 1.26e-02, accuracy: 85.14%\n",
            "Epoch  82/200, val loss: 1.31e-02, accuracy: 82.88%\n",
            "Epoch  83/200, train loss: 1.26e-02, accuracy: 85.22%\n",
            "Epoch  83/200, val loss: 1.32e-02, accuracy: 82.10%\n",
            "Epoch  84/200, train loss: 1.26e-02, accuracy: 84.73%\n",
            "Epoch  84/200, val loss: 1.37e-02, accuracy: 74.72%\n",
            "Epoch  85/200, train loss: 1.26e-02, accuracy: 85.17%\n",
            "Epoch  85/200, val loss: 1.30e-02, accuracy: 84.42%\n",
            "Epoch  86/200, train loss: 1.26e-02, accuracy: 85.35%\n",
            "Epoch  86/200, val loss: 1.30e-02, accuracy: 83.26%\n",
            "Epoch  87/200, train loss: 1.26e-02, accuracy: 85.59%\n",
            "Epoch  87/200, val loss: 1.33e-02, accuracy: 79.60%\n",
            "Epoch  88/200, train loss: 1.26e-02, accuracy: 85.28%\n",
            "Epoch  88/200, val loss: 1.31e-02, accuracy: 82.82%\n",
            "Epoch  89/200, train loss: 1.26e-02, accuracy: 85.64%\n",
            "Epoch  89/200, val loss: 1.30e-02, accuracy: 83.86%\n",
            "Epoch  90/200, train loss: 1.26e-02, accuracy: 85.47%\n",
            "Epoch  90/200, val loss: 1.31e-02, accuracy: 82.70%\n",
            "Epoch  91/200, train loss: 1.26e-02, accuracy: 85.42%\n",
            "Epoch  91/200, val loss: 1.31e-02, accuracy: 83.54%\n",
            "Epoch  92/200, train loss: 1.25e-02, accuracy: 85.85%\n",
            "Epoch  92/200, val loss: 1.30e-02, accuracy: 84.32%\n",
            "Epoch  93/200, train loss: 1.26e-02, accuracy: 85.63%\n",
            "Epoch  93/200, val loss: 1.30e-02, accuracy: 84.64%\n",
            "Epoch  94/200, train loss: 1.25e-02, accuracy: 85.92%\n",
            "Epoch  94/200, val loss: 1.30e-02, accuracy: 83.34%\n",
            "Epoch  95/200, train loss: 1.26e-02, accuracy: 85.67%\n",
            "Epoch  95/200, val loss: 1.29e-02, accuracy: 84.90%\n",
            "Epoch  96/200, train loss: 1.26e-02, accuracy: 85.72%\n",
            "Epoch  96/200, val loss: 1.30e-02, accuracy: 84.36%\n",
            "Epoch  97/200, train loss: 1.26e-02, accuracy: 85.74%\n",
            "Epoch  97/200, val loss: 1.31e-02, accuracy: 83.14%\n",
            "Epoch  98/200, train loss: 1.25e-02, accuracy: 86.08%\n",
            "Epoch  98/200, val loss: 1.30e-02, accuracy: 84.48%\n",
            "Epoch  99/200, train loss: 1.25e-02, accuracy: 85.88%\n",
            "Epoch  99/200, val loss: 1.32e-02, accuracy: 80.88%\n",
            "Epoch 100/200, train loss: 1.25e-02, accuracy: 86.12%\n",
            "Epoch 100/200, val loss: 1.33e-02, accuracy: 80.74%\n",
            "Epoch 101/200, train loss: 1.23e-02, accuracy: 89.27%\n",
            "Epoch 101/200, val loss: 1.26e-02, accuracy: 88.74%\n",
            "Epoch 102/200, train loss: 1.22e-02, accuracy: 90.49%\n",
            "Epoch 102/200, val loss: 1.26e-02, accuracy: 89.18%\n",
            "Epoch 103/200, train loss: 1.21e-02, accuracy: 91.27%\n",
            "Epoch 103/200, val loss: 1.26e-02, accuracy: 89.32%\n",
            "Epoch 104/200, train loss: 1.21e-02, accuracy: 91.45%\n",
            "Epoch 104/200, val loss: 1.26e-02, accuracy: 89.58%\n",
            "Epoch 105/200, train loss: 1.21e-02, accuracy: 91.65%\n",
            "Epoch 105/200, val loss: 1.26e-02, accuracy: 89.70%\n",
            "Epoch 106/200, train loss: 1.21e-02, accuracy: 91.89%\n",
            "Epoch 106/200, val loss: 1.26e-02, accuracy: 89.70%\n",
            "Epoch 107/200, train loss: 1.21e-02, accuracy: 92.11%\n",
            "Epoch 107/200, val loss: 1.25e-02, accuracy: 89.94%\n",
            "Epoch 108/200, train loss: 1.21e-02, accuracy: 92.24%\n",
            "Epoch 108/200, val loss: 1.25e-02, accuracy: 90.20%\n",
            "Epoch 109/200, train loss: 1.20e-02, accuracy: 92.46%\n",
            "Epoch 109/200, val loss: 1.25e-02, accuracy: 90.22%\n",
            "Epoch 110/200, train loss: 1.20e-02, accuracy: 92.47%\n",
            "Epoch 110/200, val loss: 1.25e-02, accuracy: 90.28%\n",
            "Epoch 111/200, train loss: 1.20e-02, accuracy: 92.63%\n",
            "Epoch 111/200, val loss: 1.25e-02, accuracy: 90.48%\n",
            "Epoch 112/200, train loss: 1.20e-02, accuracy: 92.86%\n",
            "Epoch 112/200, val loss: 1.25e-02, accuracy: 90.72%\n",
            "Epoch 113/200, train loss: 1.20e-02, accuracy: 92.91%\n",
            "Epoch 113/200, val loss: 1.25e-02, accuracy: 90.62%\n",
            "Epoch 114/200, train loss: 1.20e-02, accuracy: 92.91%\n",
            "Epoch 114/200, val loss: 1.25e-02, accuracy: 90.70%\n",
            "Epoch 115/200, train loss: 1.20e-02, accuracy: 93.10%\n",
            "Epoch 115/200, val loss: 1.25e-02, accuracy: 90.92%\n",
            "Epoch 116/200, train loss: 1.20e-02, accuracy: 93.18%\n",
            "Epoch 116/200, val loss: 1.25e-02, accuracy: 90.70%\n",
            "Epoch 117/200, train loss: 1.20e-02, accuracy: 93.21%\n",
            "Epoch 117/200, val loss: 1.25e-02, accuracy: 90.30%\n",
            "Epoch 118/200, train loss: 1.20e-02, accuracy: 93.42%\n",
            "Epoch 118/200, val loss: 1.25e-02, accuracy: 90.54%\n",
            "Epoch 119/200, train loss: 1.20e-02, accuracy: 93.37%\n",
            "Epoch 119/200, val loss: 1.25e-02, accuracy: 90.72%\n",
            "Epoch 120/200, train loss: 1.19e-02, accuracy: 93.67%\n",
            "Epoch 120/200, val loss: 1.25e-02, accuracy: 90.52%\n",
            "Epoch 121/200, train loss: 1.19e-02, accuracy: 93.52%\n",
            "Epoch 121/200, val loss: 1.25e-02, accuracy: 91.02%\n",
            "Epoch 122/200, train loss: 1.19e-02, accuracy: 93.49%\n",
            "Epoch 122/200, val loss: 1.25e-02, accuracy: 91.02%\n",
            "Epoch 123/200, train loss: 1.19e-02, accuracy: 93.79%\n",
            "Epoch 123/200, val loss: 1.25e-02, accuracy: 89.96%\n",
            "Epoch 124/200, train loss: 1.19e-02, accuracy: 93.80%\n",
            "Epoch 124/200, val loss: 1.25e-02, accuracy: 90.80%\n",
            "Epoch 125/200, train loss: 1.19e-02, accuracy: 93.91%\n",
            "Epoch 125/200, val loss: 1.25e-02, accuracy: 90.74%\n",
            "Epoch 126/200, train loss: 1.19e-02, accuracy: 93.91%\n",
            "Epoch 126/200, val loss: 1.25e-02, accuracy: 90.84%\n",
            "Epoch 127/200, train loss: 1.19e-02, accuracy: 93.94%\n",
            "Epoch 127/200, val loss: 1.25e-02, accuracy: 90.32%\n",
            "Epoch 128/200, train loss: 1.19e-02, accuracy: 94.16%\n",
            "Epoch 128/200, val loss: 1.25e-02, accuracy: 90.96%\n",
            "Epoch 129/200, train loss: 1.19e-02, accuracy: 94.21%\n",
            "Epoch 129/200, val loss: 1.25e-02, accuracy: 90.84%\n",
            "Epoch 130/200, train loss: 1.19e-02, accuracy: 94.20%\n",
            "Epoch 130/200, val loss: 1.25e-02, accuracy: 90.74%\n",
            "Epoch 131/200, train loss: 1.19e-02, accuracy: 94.21%\n",
            "Epoch 131/200, val loss: 1.25e-02, accuracy: 90.82%\n",
            "Epoch 132/200, train loss: 1.19e-02, accuracy: 94.25%\n",
            "Epoch 132/200, val loss: 1.25e-02, accuracy: 90.72%\n",
            "Epoch 133/200, train loss: 1.19e-02, accuracy: 94.30%\n",
            "Epoch 133/200, val loss: 1.25e-02, accuracy: 90.86%\n",
            "Epoch 134/200, train loss: 1.19e-02, accuracy: 94.43%\n",
            "Epoch 134/200, val loss: 1.25e-02, accuracy: 90.80%\n",
            "Epoch 135/200, train loss: 1.19e-02, accuracy: 94.49%\n",
            "Epoch 135/200, val loss: 1.25e-02, accuracy: 91.16%\n",
            "Epoch 136/200, train loss: 1.19e-02, accuracy: 94.67%\n",
            "Epoch 136/200, val loss: 1.25e-02, accuracy: 91.32%\n",
            "Epoch 137/200, train loss: 1.19e-02, accuracy: 94.66%\n",
            "Epoch 137/200, val loss: 1.25e-02, accuracy: 91.14%\n",
            "Epoch 138/200, train loss: 1.19e-02, accuracy: 94.70%\n",
            "Epoch 138/200, val loss: 1.25e-02, accuracy: 90.90%\n",
            "Epoch 139/200, train loss: 1.19e-02, accuracy: 94.63%\n",
            "Epoch 139/200, val loss: 1.25e-02, accuracy: 91.04%\n",
            "Epoch 140/200, train loss: 1.19e-02, accuracy: 94.66%\n",
            "Epoch 140/200, val loss: 1.25e-02, accuracy: 91.10%\n",
            "Epoch 141/200, train loss: 1.19e-02, accuracy: 94.87%\n",
            "Epoch 141/200, val loss: 1.25e-02, accuracy: 90.68%\n",
            "Epoch 142/200, train loss: 1.19e-02, accuracy: 94.84%\n",
            "Epoch 142/200, val loss: 1.25e-02, accuracy: 91.02%\n",
            "Epoch 143/200, train loss: 1.19e-02, accuracy: 94.83%\n",
            "Epoch 143/200, val loss: 1.25e-02, accuracy: 90.78%\n",
            "Epoch 144/200, train loss: 1.18e-02, accuracy: 94.86%\n",
            "Epoch 144/200, val loss: 1.25e-02, accuracy: 90.82%\n",
            "Epoch 145/200, train loss: 1.18e-02, accuracy: 95.02%\n",
            "Epoch 145/200, val loss: 1.25e-02, accuracy: 90.68%\n",
            "Epoch 146/200, train loss: 1.18e-02, accuracy: 94.96%\n",
            "Epoch 146/200, val loss: 1.25e-02, accuracy: 90.90%\n",
            "Epoch 147/200, train loss: 1.18e-02, accuracy: 95.06%\n",
            "Epoch 147/200, val loss: 1.25e-02, accuracy: 91.08%\n",
            "Epoch 148/200, train loss: 1.18e-02, accuracy: 95.07%\n",
            "Epoch 148/200, val loss: 1.25e-02, accuracy: 91.10%\n",
            "Epoch 149/200, train loss: 1.18e-02, accuracy: 95.04%\n",
            "Epoch 149/200, val loss: 1.25e-02, accuracy: 90.70%\n",
            "Epoch 150/200, train loss: 1.18e-02, accuracy: 95.08%\n",
            "Epoch 150/200, val loss: 1.25e-02, accuracy: 90.74%\n",
            "Epoch 151/200, train loss: 1.18e-02, accuracy: 95.42%\n",
            "Epoch 151/200, val loss: 1.25e-02, accuracy: 90.96%\n",
            "Epoch 152/200, train loss: 1.18e-02, accuracy: 95.59%\n",
            "Epoch 152/200, val loss: 1.25e-02, accuracy: 91.14%\n",
            "Epoch 153/200, train loss: 1.18e-02, accuracy: 95.87%\n",
            "Epoch 153/200, val loss: 1.25e-02, accuracy: 91.16%\n",
            "Epoch 154/200, train loss: 1.18e-02, accuracy: 95.88%\n",
            "Epoch 154/200, val loss: 1.24e-02, accuracy: 91.32%\n",
            "Epoch 155/200, train loss: 1.18e-02, accuracy: 95.95%\n",
            "Epoch 155/200, val loss: 1.24e-02, accuracy: 91.30%\n",
            "Epoch 156/200, train loss: 1.18e-02, accuracy: 95.92%\n",
            "Epoch 156/200, val loss: 1.24e-02, accuracy: 91.44%\n",
            "Epoch 157/200, train loss: 1.18e-02, accuracy: 95.86%\n",
            "Epoch 157/200, val loss: 1.24e-02, accuracy: 91.36%\n",
            "Epoch 158/200, train loss: 1.18e-02, accuracy: 95.98%\n",
            "Epoch 158/200, val loss: 1.24e-02, accuracy: 91.30%\n",
            "Epoch 159/200, train loss: 1.18e-02, accuracy: 95.90%\n",
            "Epoch 159/200, val loss: 1.24e-02, accuracy: 91.44%\n",
            "Epoch 160/200, train loss: 1.18e-02, accuracy: 95.98%\n",
            "Epoch 160/200, val loss: 1.24e-02, accuracy: 91.52%\n",
            "Epoch 161/200, train loss: 1.18e-02, accuracy: 96.11%\n",
            "Epoch 161/200, val loss: 1.24e-02, accuracy: 91.72%\n",
            "Epoch 162/200, train loss: 1.18e-02, accuracy: 96.04%\n",
            "Epoch 162/200, val loss: 1.24e-02, accuracy: 91.64%\n",
            "Epoch 163/200, train loss: 1.18e-02, accuracy: 96.00%\n",
            "Epoch 163/200, val loss: 1.24e-02, accuracy: 91.88%\n",
            "Epoch 164/200, train loss: 1.18e-02, accuracy: 96.04%\n",
            "Epoch 164/200, val loss: 1.24e-02, accuracy: 91.68%\n",
            "Epoch 165/200, train loss: 1.17e-02, accuracy: 96.18%\n",
            "Epoch 165/200, val loss: 1.24e-02, accuracy: 91.68%\n",
            "Epoch 166/200, train loss: 1.18e-02, accuracy: 96.12%\n",
            "Epoch 166/200, val loss: 1.24e-02, accuracy: 91.46%\n",
            "Epoch 167/200, train loss: 1.17e-02, accuracy: 96.14%\n",
            "Epoch 167/200, val loss: 1.24e-02, accuracy: 91.52%\n",
            "Epoch 168/200, train loss: 1.17e-02, accuracy: 96.15%\n",
            "Epoch 168/200, val loss: 1.24e-02, accuracy: 91.54%\n",
            "Epoch 169/200, train loss: 1.17e-02, accuracy: 96.23%\n",
            "Epoch 169/200, val loss: 1.24e-02, accuracy: 91.48%\n",
            "Epoch 170/200, train loss: 1.17e-02, accuracy: 96.12%\n",
            "Epoch 170/200, val loss: 1.24e-02, accuracy: 91.56%\n",
            "Epoch 171/200, train loss: 1.17e-02, accuracy: 96.14%\n",
            "Epoch 171/200, val loss: 1.24e-02, accuracy: 91.56%\n",
            "Epoch 172/200, train loss: 1.18e-02, accuracy: 96.03%\n",
            "Epoch 172/200, val loss: 1.24e-02, accuracy: 91.54%\n",
            "Epoch 173/200, train loss: 1.17e-02, accuracy: 96.18%\n",
            "Epoch 173/200, val loss: 1.24e-02, accuracy: 91.56%\n",
            "Epoch 174/200, train loss: 1.17e-02, accuracy: 96.31%\n",
            "Epoch 174/200, val loss: 1.24e-02, accuracy: 91.62%\n",
            "Epoch 175/200, train loss: 1.17e-02, accuracy: 96.24%\n",
            "Epoch 175/200, val loss: 1.24e-02, accuracy: 91.60%\n",
            "Epoch 176/200, train loss: 1.17e-02, accuracy: 96.28%\n",
            "Epoch 176/200, val loss: 1.24e-02, accuracy: 91.54%\n",
            "Epoch 177/200, train loss: 1.17e-02, accuracy: 96.27%\n",
            "Epoch 177/200, val loss: 1.24e-02, accuracy: 91.62%\n",
            "Epoch 178/200, train loss: 1.17e-02, accuracy: 96.34%\n",
            "Epoch 178/200, val loss: 1.24e-02, accuracy: 91.50%\n",
            "Epoch 179/200, train loss: 1.17e-02, accuracy: 96.27%\n",
            "Epoch 179/200, val loss: 1.24e-02, accuracy: 91.64%\n",
            "Epoch 180/200, train loss: 1.17e-02, accuracy: 96.37%\n",
            "Epoch 180/200, val loss: 1.24e-02, accuracy: 91.58%\n",
            "Epoch 181/200, train loss: 1.17e-02, accuracy: 96.15%\n",
            "Epoch 181/200, val loss: 1.24e-02, accuracy: 91.90%\n",
            "Epoch 182/200, train loss: 1.17e-02, accuracy: 96.37%\n",
            "Epoch 182/200, val loss: 1.24e-02, accuracy: 91.78%\n",
            "Epoch 183/200, train loss: 1.17e-02, accuracy: 96.29%\n",
            "Epoch 183/200, val loss: 1.24e-02, accuracy: 91.76%\n",
            "Epoch 184/200, train loss: 1.17e-02, accuracy: 96.20%\n",
            "Epoch 184/200, val loss: 1.24e-02, accuracy: 91.62%\n",
            "Epoch 185/200, train loss: 1.17e-02, accuracy: 96.37%\n",
            "Epoch 185/200, val loss: 1.24e-02, accuracy: 91.58%\n",
            "Epoch 186/200, train loss: 1.17e-02, accuracy: 96.25%\n",
            "Epoch 186/200, val loss: 1.24e-02, accuracy: 91.66%\n",
            "Epoch 187/200, train loss: 1.17e-02, accuracy: 96.45%\n",
            "Epoch 187/200, val loss: 1.24e-02, accuracy: 91.58%\n",
            "Epoch 188/200, train loss: 1.17e-02, accuracy: 96.35%\n",
            "Epoch 188/200, val loss: 1.24e-02, accuracy: 91.64%\n",
            "Epoch 189/200, train loss: 1.17e-02, accuracy: 96.29%\n",
            "Epoch 189/200, val loss: 1.24e-02, accuracy: 91.68%\n",
            "Epoch 190/200, train loss: 1.17e-02, accuracy: 96.46%\n",
            "Epoch 190/200, val loss: 1.24e-02, accuracy: 91.88%\n",
            "Epoch 191/200, train loss: 1.17e-02, accuracy: 96.41%\n",
            "Epoch 191/200, val loss: 1.24e-02, accuracy: 91.80%\n",
            "Epoch 192/200, train loss: 1.17e-02, accuracy: 96.30%\n",
            "Epoch 192/200, val loss: 1.24e-02, accuracy: 91.60%\n",
            "Epoch 193/200, train loss: 1.17e-02, accuracy: 96.37%\n",
            "Epoch 193/200, val loss: 1.24e-02, accuracy: 91.70%\n",
            "Epoch 194/200, train loss: 1.17e-02, accuracy: 96.44%\n",
            "Epoch 194/200, val loss: 1.24e-02, accuracy: 91.64%\n",
            "Epoch 195/200, train loss: 1.17e-02, accuracy: 96.26%\n",
            "Epoch 195/200, val loss: 1.24e-02, accuracy: 91.46%\n",
            "Epoch 196/200, train loss: 1.17e-02, accuracy: 96.42%\n",
            "Epoch 196/200, val loss: 1.24e-02, accuracy: 91.82%\n",
            "Epoch 197/200, train loss: 1.17e-02, accuracy: 96.42%\n",
            "Epoch 197/200, val loss: 1.24e-02, accuracy: 91.84%\n",
            "Epoch 198/200, train loss: 1.17e-02, accuracy: 96.38%\n",
            "Epoch 198/200, val loss: 1.24e-02, accuracy: 91.64%\n",
            "Epoch 199/200, train loss: 1.17e-02, accuracy: 96.42%\n",
            "Epoch 199/200, val loss: 1.24e-02, accuracy: 91.64%\n",
            "Epoch 200/200, train loss: 1.17e-02, accuracy: 96.51%\n",
            "Epoch 200/200, val loss: 1.24e-02, accuracy: 91.84%\n"
          ]
        }
      ],
      "source": [
        "optimizer = torch.optim.SGD(resnet.parameters(), lr=0.1, momentum=0.9, weight_decay=1e-4)\n",
        "lr_scheduler = torch.optim.lr_scheduler.MultiStepLR(optimizer, milestones=[100, 150], gamma=0.1)\n",
        "\n",
        "# Fit model\n",
        "fit(resnet, optimizer, lr_scheduler, dataloaders, max_epochs=200, patience=50)"
      ]
    },
    {
      "cell_type": "markdown",
      "metadata": {
        "id": "c-TMhyC19hDt"
      },
      "source": [
        "Once the model is trained we run it on the test set to obtain our final accuracy.\n",
        "Note that we can only look at the test set once, everything else would lead to overfitting. So you _must_ ignore the test set while developing your model!"
      ]
    },
    {
      "cell_type": "code",
      "execution_count": 19,
      "metadata": {
        "colab": {
          "base_uri": "https://localhost:8080/"
        },
        "id": "Kv59nh-P9hDu",
        "outputId": "98646cce-45f4-4d6b-e93b-96c3221d9868"
      },
      "outputs": [
        {
          "name": "stdout",
          "output_type": "stream",
          "text": [
            "Test loss: 1.2e-02, accuracy: 90.87%\n"
          ]
        }
      ],
      "source": [
        "test_loss, test_acc = run_epoch(resnet, None, dataloaders['test'], train=False)\n",
        "print(f\"Test loss: {test_loss:.1e}, accuracy: {test_acc * 100:.2f}%\")"
      ]
    },
    {
      "cell_type": "markdown",
      "metadata": {
        "id": "G2B-rCWw9hDu"
      },
      "source": [
        "That's almost what was reported in the paper (92.49%) and we didn't even train on the full training set."
      ]
    },
    {
      "cell_type": "markdown",
      "metadata": {
        "id": "fE4IkpyK9hDu"
      },
      "source": [
        "# Optional task: Squeeze out all the juice!"
      ]
    },
    {
      "cell_type": "markdown",
      "metadata": {
        "id": "P8cKVVgy9hDu"
      },
      "source": [
        "Can you do even better? Have a look at [A Recipe for Training Neural Networks](https://karpathy.github.io/2019/04/25/recipe/) and some state-of-the-art architectures such as [EfficientNet architecture](https://ai.googleblog.com/2019/05/efficientnet-improving-accuracy-and.html). Play around with the possibilities PyTorch offers you and see how close you can get to the [state of the art on CIFAR-10](https://paperswithcode.com/sota/image-classification-on-cifar-10)."
      ]
    }
  ],
  "metadata": {
    "accelerator": "GPU",
    "colab": {
      "name": "exercise_08_notebook.ipynb",
      "provenance": []
    },
    "kernelspec": {
      "display_name": "Python 3",
      "language": "python",
      "name": "python3"
    },
    "language_info": {
      "codemirror_mode": {
        "name": "ipython",
        "version": 3
      },
      "file_extension": ".py",
      "mimetype": "text/x-python",
      "name": "python",
      "nbconvert_exporter": "python",
      "pygments_lexer": "ipython3",
      "version": "3.9.7"
    },
    "widgets": {
      "application/vnd.jupyter.widget-state+json": {
        "07124dff86944f52ab61789f5deeaa00": {
          "model_module": "@jupyter-widgets/base",
          "model_module_version": "1.2.0",
          "model_name": "LayoutModel",
          "state": {
            "_model_module": "@jupyter-widgets/base",
            "_model_module_version": "1.2.0",
            "_model_name": "LayoutModel",
            "_view_count": null,
            "_view_module": "@jupyter-widgets/base",
            "_view_module_version": "1.2.0",
            "_view_name": "LayoutView",
            "align_content": null,
            "align_items": null,
            "align_self": null,
            "border": null,
            "bottom": null,
            "display": null,
            "flex": null,
            "flex_flow": null,
            "grid_area": null,
            "grid_auto_columns": null,
            "grid_auto_flow": null,
            "grid_auto_rows": null,
            "grid_column": null,
            "grid_gap": null,
            "grid_row": null,
            "grid_template_areas": null,
            "grid_template_columns": null,
            "grid_template_rows": null,
            "height": null,
            "justify_content": null,
            "justify_items": null,
            "left": null,
            "margin": null,
            "max_height": null,
            "max_width": null,
            "min_height": null,
            "min_width": null,
            "object_fit": null,
            "object_position": null,
            "order": null,
            "overflow": null,
            "overflow_x": null,
            "overflow_y": null,
            "padding": null,
            "right": null,
            "top": null,
            "visibility": null,
            "width": null
          }
        },
        "225516667d4b41bea95af06e1ae183bd": {
          "model_module": "@jupyter-widgets/controls",
          "model_module_version": "1.5.0",
          "model_name": "DescriptionStyleModel",
          "state": {
            "_model_module": "@jupyter-widgets/controls",
            "_model_module_version": "1.5.0",
            "_model_name": "DescriptionStyleModel",
            "_view_count": null,
            "_view_module": "@jupyter-widgets/base",
            "_view_module_version": "1.2.0",
            "_view_name": "StyleView",
            "description_width": ""
          }
        },
        "270037f68ecc4252b454e1546821e203": {
          "model_module": "@jupyter-widgets/controls",
          "model_module_version": "1.5.0",
          "model_name": "FloatProgressModel",
          "state": {
            "_dom_classes": [],
            "_model_module": "@jupyter-widgets/controls",
            "_model_module_version": "1.5.0",
            "_model_name": "FloatProgressModel",
            "_view_count": null,
            "_view_module": "@jupyter-widgets/controls",
            "_view_module_version": "1.5.0",
            "_view_name": "ProgressView",
            "bar_style": "success",
            "description": "",
            "description_tooltip": null,
            "layout": "IPY_MODEL_abb4ebad76014a73a26d0f9d70442e68",
            "max": 170498071,
            "min": 0,
            "orientation": "horizontal",
            "style": "IPY_MODEL_3e6e4011697d4f4d90626f45afa06137",
            "value": 170498071
          }
        },
        "3e6e4011697d4f4d90626f45afa06137": {
          "model_module": "@jupyter-widgets/controls",
          "model_module_version": "1.5.0",
          "model_name": "ProgressStyleModel",
          "state": {
            "_model_module": "@jupyter-widgets/controls",
            "_model_module_version": "1.5.0",
            "_model_name": "ProgressStyleModel",
            "_view_count": null,
            "_view_module": "@jupyter-widgets/base",
            "_view_module_version": "1.2.0",
            "_view_name": "StyleView",
            "bar_color": null,
            "description_width": ""
          }
        },
        "5648daa1b9974978a9cc412710e19fcd": {
          "model_module": "@jupyter-widgets/controls",
          "model_module_version": "1.5.0",
          "model_name": "HTMLModel",
          "state": {
            "_dom_classes": [],
            "_model_module": "@jupyter-widgets/controls",
            "_model_module_version": "1.5.0",
            "_model_name": "HTMLModel",
            "_view_count": null,
            "_view_module": "@jupyter-widgets/controls",
            "_view_module_version": "1.5.0",
            "_view_name": "HTMLView",
            "description": "",
            "description_tooltip": null,
            "layout": "IPY_MODEL_07124dff86944f52ab61789f5deeaa00",
            "placeholder": "​",
            "style": "IPY_MODEL_9e8c49cf43d44d1d8e21d8e3d4824630",
            "value": " 170499072/? [00:08&lt;00:00, 42693780.39it/s]"
          }
        },
        "72aeb3f674414688969a7c3bac63060a": {
          "model_module": "@jupyter-widgets/base",
          "model_module_version": "1.2.0",
          "model_name": "LayoutModel",
          "state": {
            "_model_module": "@jupyter-widgets/base",
            "_model_module_version": "1.2.0",
            "_model_name": "LayoutModel",
            "_view_count": null,
            "_view_module": "@jupyter-widgets/base",
            "_view_module_version": "1.2.0",
            "_view_name": "LayoutView",
            "align_content": null,
            "align_items": null,
            "align_self": null,
            "border": null,
            "bottom": null,
            "display": null,
            "flex": null,
            "flex_flow": null,
            "grid_area": null,
            "grid_auto_columns": null,
            "grid_auto_flow": null,
            "grid_auto_rows": null,
            "grid_column": null,
            "grid_gap": null,
            "grid_row": null,
            "grid_template_areas": null,
            "grid_template_columns": null,
            "grid_template_rows": null,
            "height": null,
            "justify_content": null,
            "justify_items": null,
            "left": null,
            "margin": null,
            "max_height": null,
            "max_width": null,
            "min_height": null,
            "min_width": null,
            "object_fit": null,
            "object_position": null,
            "order": null,
            "overflow": null,
            "overflow_x": null,
            "overflow_y": null,
            "padding": null,
            "right": null,
            "top": null,
            "visibility": null,
            "width": null
          }
        },
        "8f3af6060b25432cae0f8b575775d934": {
          "model_module": "@jupyter-widgets/base",
          "model_module_version": "1.2.0",
          "model_name": "LayoutModel",
          "state": {
            "_model_module": "@jupyter-widgets/base",
            "_model_module_version": "1.2.0",
            "_model_name": "LayoutModel",
            "_view_count": null,
            "_view_module": "@jupyter-widgets/base",
            "_view_module_version": "1.2.0",
            "_view_name": "LayoutView",
            "align_content": null,
            "align_items": null,
            "align_self": null,
            "border": null,
            "bottom": null,
            "display": null,
            "flex": null,
            "flex_flow": null,
            "grid_area": null,
            "grid_auto_columns": null,
            "grid_auto_flow": null,
            "grid_auto_rows": null,
            "grid_column": null,
            "grid_gap": null,
            "grid_row": null,
            "grid_template_areas": null,
            "grid_template_columns": null,
            "grid_template_rows": null,
            "height": null,
            "justify_content": null,
            "justify_items": null,
            "left": null,
            "margin": null,
            "max_height": null,
            "max_width": null,
            "min_height": null,
            "min_width": null,
            "object_fit": null,
            "object_position": null,
            "order": null,
            "overflow": null,
            "overflow_x": null,
            "overflow_y": null,
            "padding": null,
            "right": null,
            "top": null,
            "visibility": null,
            "width": null
          }
        },
        "9e8c49cf43d44d1d8e21d8e3d4824630": {
          "model_module": "@jupyter-widgets/controls",
          "model_module_version": "1.5.0",
          "model_name": "DescriptionStyleModel",
          "state": {
            "_model_module": "@jupyter-widgets/controls",
            "_model_module_version": "1.5.0",
            "_model_name": "DescriptionStyleModel",
            "_view_count": null,
            "_view_module": "@jupyter-widgets/base",
            "_view_module_version": "1.2.0",
            "_view_name": "StyleView",
            "description_width": ""
          }
        },
        "a3163cd25c2a48c2b0255656da79e002": {
          "model_module": "@jupyter-widgets/controls",
          "model_module_version": "1.5.0",
          "model_name": "HBoxModel",
          "state": {
            "_dom_classes": [],
            "_model_module": "@jupyter-widgets/controls",
            "_model_module_version": "1.5.0",
            "_model_name": "HBoxModel",
            "_view_count": null,
            "_view_module": "@jupyter-widgets/controls",
            "_view_module_version": "1.5.0",
            "_view_name": "HBoxView",
            "box_style": "",
            "children": [
              "IPY_MODEL_df0a1240ad064e2a955d96e3fca1fda1",
              "IPY_MODEL_270037f68ecc4252b454e1546821e203",
              "IPY_MODEL_5648daa1b9974978a9cc412710e19fcd"
            ],
            "layout": "IPY_MODEL_8f3af6060b25432cae0f8b575775d934"
          }
        },
        "abb4ebad76014a73a26d0f9d70442e68": {
          "model_module": "@jupyter-widgets/base",
          "model_module_version": "1.2.0",
          "model_name": "LayoutModel",
          "state": {
            "_model_module": "@jupyter-widgets/base",
            "_model_module_version": "1.2.0",
            "_model_name": "LayoutModel",
            "_view_count": null,
            "_view_module": "@jupyter-widgets/base",
            "_view_module_version": "1.2.0",
            "_view_name": "LayoutView",
            "align_content": null,
            "align_items": null,
            "align_self": null,
            "border": null,
            "bottom": null,
            "display": null,
            "flex": null,
            "flex_flow": null,
            "grid_area": null,
            "grid_auto_columns": null,
            "grid_auto_flow": null,
            "grid_auto_rows": null,
            "grid_column": null,
            "grid_gap": null,
            "grid_row": null,
            "grid_template_areas": null,
            "grid_template_columns": null,
            "grid_template_rows": null,
            "height": null,
            "justify_content": null,
            "justify_items": null,
            "left": null,
            "margin": null,
            "max_height": null,
            "max_width": null,
            "min_height": null,
            "min_width": null,
            "object_fit": null,
            "object_position": null,
            "order": null,
            "overflow": null,
            "overflow_x": null,
            "overflow_y": null,
            "padding": null,
            "right": null,
            "top": null,
            "visibility": null,
            "width": null
          }
        },
        "df0a1240ad064e2a955d96e3fca1fda1": {
          "model_module": "@jupyter-widgets/controls",
          "model_module_version": "1.5.0",
          "model_name": "HTMLModel",
          "state": {
            "_dom_classes": [],
            "_model_module": "@jupyter-widgets/controls",
            "_model_module_version": "1.5.0",
            "_model_name": "HTMLModel",
            "_view_count": null,
            "_view_module": "@jupyter-widgets/controls",
            "_view_module_version": "1.5.0",
            "_view_name": "HTMLView",
            "description": "",
            "description_tooltip": null,
            "layout": "IPY_MODEL_72aeb3f674414688969a7c3bac63060a",
            "placeholder": "​",
            "style": "IPY_MODEL_225516667d4b41bea95af06e1ae183bd",
            "value": ""
          }
        }
      }
    }
  },
  "nbformat": 4,
  "nbformat_minor": 0
}
