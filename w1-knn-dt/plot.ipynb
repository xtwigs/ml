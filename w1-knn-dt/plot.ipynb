# A = (i, i**2) for i in range(1, 100)
# B = (i, 125/i) for i in range(1, 100)


a = [(i, i**2) for i in range(1, 100+1)]